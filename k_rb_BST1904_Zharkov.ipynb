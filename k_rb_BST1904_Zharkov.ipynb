{
 "cells": [
  {
   "cell_type": "markdown",
   "id": "cardiovascular-guarantee",
   "metadata": {},
   "source": [
    "# Курсовая работа по дисциплине \"Структуры и алгоритмы обработки данных\""
   ]
  },
  {
   "cell_type": "markdown",
   "id": "beautiful-sixth",
   "metadata": {},
   "source": [
    "Выполнил студент группы БСТ1904\n",
    "> Жарков Дмитрий"
   ]
  },
  {
   "cell_type": "markdown",
   "id": "silent-front",
   "metadata": {},
   "source": [
    "## Задача 1. «Треугольник с максимальным периметром»"
   ]
  },
  {
   "cell_type": "markdown",
   "id": "unsigned-tenant",
   "metadata": {},
   "source": [
    "Массив A состоит из целых положительных чисел - длин отрезков. Составьте из трех отрезков такой треугольник, чтобы его периметр был максимально возможным. Если невозможно\n",
    "составить треугольник с положительной площадью - функция возвращает 0."
   ]
  },
  {
   "cell_type": "code",
   "execution_count": 123,
   "id": "precise-builder",
   "metadata": {},
   "outputs": [
    {
     "name": "stdout",
     "output_type": "stream",
     "text": [
      "[3, 2, 3, 4] --> Максимально возможный Периметр треугольника = 10\n",
      "[1, 2, 1] --> Невозможно найти Периметр треугольника\n",
      "[3, 2, 3, 4] --> Максимально возможный Периметр треугольника = 10\n",
      "[3, 6, 2, 3] --> Максимально возможный Периметр треугольника = 8\n"
     ]
    }
   ],
   "source": [
    "def maxP(arr):\n",
    "    maxm = 0\n",
    "    n = len(arr)\n",
    "    for i in range(n - 2):\n",
    "        for j in range(i + 1, n - 1):\n",
    "            for k in range(j + 1, n):  \n",
    "                # a, b, c - 3 стороны\n",
    "                a = arr[i]\n",
    "                b = arr[j]\n",
    "                c = arr[k]\n",
    "                if(a < b + c and b < a + c \n",
    "                             and c < a + b):\n",
    "                    maxm = max(maxm, a + b + c)\n",
    "    if(maxm == 0):\n",
    "        return (\"Невозможно найти Периметр треугольника\")\n",
    "    else:\n",
    "        return (\"Максимально возможный Периметр треугольника = \"+ str(maxm))    \n",
    "    \n",
    "arr = [3,2,3,4]\n",
    "print(arr,\"-->\", maxP(arr))\n",
    "arr = [1, 2, 1]\n",
    "print(arr,\"-->\", maxP(arr))\n",
    "arr = [3, 2, 3, 4]\n",
    "print(arr,\"-->\", maxP(arr))\n",
    "arr = [3, 6, 2, 3]\n",
    "print(arr,\"-->\", maxP(arr))"
   ]
  },
  {
   "cell_type": "markdown",
   "id": "minimal-central",
   "metadata": {},
   "source": [
    "# Задача № 2"
   ]
  },
  {
   "cell_type": "markdown",
   "id": "linear-storage",
   "metadata": {},
   "source": [
    "Дан массив неотрицательных целых чисел nums. Расположите их в таком порядке, чтобы\n",
    "вместе они образовали максимально возможное число.\n",
    "> Замечание: Результат может быть очень большим числом, поэтому представьте его как\n",
    "string, а не integer."
   ]
  },
  {
   "cell_type": "code",
   "execution_count": 124,
   "id": "returning-monster",
   "metadata": {},
   "outputs": [
    {
     "name": "stdout",
     "output_type": "stream",
     "text": [
      "['10', '2']\n",
      "['2', '10']\n",
      "210\n"
     ]
    }
   ],
   "source": [
    "nums = [10,2]\n",
    "length_Max = len(str(max(nums))) \n",
    "nums = [str(i) for i in nums] # Перевод в строковой тип\n",
    "print(nums)\n",
    "def el(a):\n",
    "    return a + a[-1] * (length_Max - len(a))             #функция повторяет последнюю цифру пока число \n",
    "                                                 #не станет по длинне как самое длинное из списка [10,2] -->[10,22]\n",
    "\n",
    "SotrMas = sorted(nums, key=el, reverse=True) #обратная сортировка nums учитывая функцию el \n",
    "print(SotrMas)\n",
    "print(''.join(SotrMas))"
   ]
  },
  {
   "cell_type": "markdown",
   "id": "standing-nylon",
   "metadata": {},
   "source": [
    "# Задача № 3\n",
    "## Дана матрица mat размером m * n, значения целочисленные. Напишите функцию, сортирующую каждую диагональ матрицы по возрастанию и возвращающую получившуюся матрицу."
   ]
  },
  {
   "cell_type": "code",
   "execution_count": 125,
   "id": "fantastic-purpose",
   "metadata": {},
   "outputs": [
    {
     "name": "stdout",
     "output_type": "stream",
     "text": [
      "Matrix:\n",
      "[3, 3, 1, 1]\n",
      "[2, 2, 1, 2]\n",
      "[1, 1, 1, 2]\n",
      "\n",
      "Sorted: \n",
      "[1, 1, 1, 1]\n",
      "[1, 2, 2, 2]\n",
      "[1, 2, 3, 3]\n",
      "\n",
      "Matrix:\n",
      "[11, 25, 66, 1, 69, 7]\n",
      "[23, 55, 17, 45, 15, 52]\n",
      "[75, 31, 36, 44, 58, 8]\n",
      "[22, 27, 33, 25, 68, 4]\n",
      "[84, 28, 14, 11, 5, 50]\n",
      "\n",
      "Sorted: \n",
      "[5, 17, 4, 1, 52, 7]\n",
      "[11, 11, 25, 45, 8, 69]\n",
      "[14, 23, 25, 44, 58, 15]\n",
      "[22, 27, 31, 36, 50, 66]\n",
      "[84, 28, 75, 33, 55, 68]\n"
     ]
    }
   ],
   "source": [
    "def sort_d(matrix):\n",
    "    m, n = len(matrix), len(matrix[0])\n",
    "    temp = [[] for i in range(m+n)]\n",
    "    # Добавляем каждую диагональ в массив t\n",
    "    for i in range(m):\n",
    "        for j in range(n):\n",
    "            temp[i - j].append(matrix[i][j])\n",
    "    # Сортируем каждую диагональ массива\n",
    "    for line in temp:\n",
    "        line.sort(reverse = True)\n",
    "    # \"Линии\" в диагонали матрицы\n",
    "    for i in range(m):\n",
    "        for j in range(n):\n",
    "            # pop() удаляет последний элемент массива и возвращает его\n",
    "            matrix[i][j] = temp[i-j].pop()\n",
    "    return matrix\n",
    "\n",
    "\n",
    "arr = [[3,3,1,1], [2,2,1,2], [1,1,1,2]]\n",
    "print(\"Matrix:\")\n",
    "for l in arr:\n",
    "    print(l) \n",
    "print(\"\\nSorted: \")\n",
    "arr = sort_d(arr)\n",
    "for l in arr:\n",
    "    print(l)\n",
    "arr = [[11, 25, 66, 1, 69, 7], [23, 55, 17, 45, 15, 52], [75, 31, 36, 44, 58, 8], [22, 27, 33, 25, 68, 4], [84, 28, 14, 11, 5, 50]]\n",
    "print(\"\\nMatrix:\")\n",
    "for l in arr:\n",
    "    print(l)\n",
    "    \n",
    "print(\"\\nSorted: \")\n",
    "arr = sort_d(arr)\n",
    "for l in arr:\n",
    "    print(l)"
   ]
  },
  {
   "cell_type": "markdown",
   "id": "polyphonic-equipment",
   "metadata": {},
   "source": [
    "# Задача № 4"
   ]
  },
  {
   "cell_type": "markdown",
   "id": "desirable-dictionary",
   "metadata": {},
   "source": [
    "Даны две строки: s1 и s2 с одинаковым размером, проверьте, может ли\n",
    "некоторая перестановка строки s1 “победить” некоторую перестановку\n",
    "строки s2 или наоборот.\n",
    "Строка x может “победить” строку y (обе имеют размер n), если x[i]> = y\n",
    "[i] (в алфавитном порядке) для всех i от 0 до n-1."
   ]
  },
  {
   "cell_type": "code",
   "execution_count": 126,
   "id": "critical-orbit",
   "metadata": {},
   "outputs": [
    {
     "name": "stdout",
     "output_type": "stream",
     "text": [
      "True\n",
      "False\n"
     ]
    }
   ],
   "source": [
    "def win(str1, str2):\n",
    "    sorted1 = ''.join(sorted(str1));\n",
    "    sorted2 = ''.join(sorted(str2));\n",
    "    firstWon = True; secondWon = True;\n",
    "    \n",
    "    for i in range(0, len(sorted1)):\n",
    "        if not (sorted1[i] >= sorted2[i]):\n",
    "            firstWon = False\n",
    "            break;\n",
    "    \n",
    "    if not firstWon:\n",
    "        for i in range(0, len(sorted1)):\n",
    "            if not(sorted2[i] >= sorted1[i]):\n",
    "                secondWon = False\n",
    "                break;\n",
    "    else: secondWon = False\n",
    "    \n",
    "    return (firstWon or secondWon)\n",
    "print(win('abc', 'xya'))\n",
    "print(win('abe', 'acd'))"
   ]
  },
  {
   "cell_type": "markdown",
   "id": "advance-whole",
   "metadata": {},
   "source": [
    "# Задача № 5"
   ]
  },
  {
   "cell_type": "markdown",
   "id": "developing-optimum",
   "metadata": {},
   "source": [
    "Дана строка s, вернуть самую длинную полиндромную подстроку в s."
   ]
  },
  {
   "cell_type": "code",
   "execution_count": 127,
   "id": "physical-brook",
   "metadata": {},
   "outputs": [
    {
     "name": "stdout",
     "output_type": "stream",
     "text": [
      "ababa\n"
     ]
    }
   ],
   "source": [
    "s = 'ababad'\n",
    "Output = \"\"\n",
    "for i in range(len(s)):\n",
    " for j in range(0, i):\n",
    "    sub = s[j:i + 1]\n",
    "    if sub == sub[::-1]: \n",
    "        if len(sub) > len(Output):\n",
    "            Output = sub\n",
    "print(Output)"
   ]
  },
  {
   "cell_type": "markdown",
   "id": "formal-industry",
   "metadata": {},
   "source": [
    "# Задача № 6"
   ]
  },
  {
   "cell_type": "markdown",
   "id": "dutch-performance",
   "metadata": {},
   "source": [
    "Вернуть количество отдельных непустых подстрок текста, которые могут\n",
    "быть записаны как конкатенация некоторой строки с самой собой (т.е. она\n",
    "может быть записана, как a + a, где a - некоторая строка)."
   ]
  },
  {
   "cell_type": "code",
   "execution_count": 128,
   "id": "general-discussion",
   "metadata": {},
   "outputs": [
    {
     "name": "stdout",
     "output_type": "stream",
     "text": [
      "4\n"
     ]
    }
   ],
   "source": [
    "s='abcdabcdabcd'\n",
    "longest = 0\n",
    "for start_index in range(len(s)):\n",
    "    contains = set()\n",
    "    \n",
    "    for letter in s[start_index:]:\n",
    "        if letter in contains:\n",
    "            break\n",
    "        contains.add(letter)\n",
    "        \n",
    "        \n",
    "    longest = max(longest, len(contains))\n",
    "print(longest)"
   ]
  },
  {
   "cell_type": "markdown",
   "id": "operating-leader",
   "metadata": {},
   "source": [
    "# Задача 7 «Стопки монет»"
   ]
  },
  {
   "cell_type": "markdown",
   "id": "residential-chassis",
   "metadata": {},
   "source": [
    "На столе стоят 3n стопок монет. Вы и ваши друзья Алиса и Боб забираете стопки монет по\n",
    "следующему алгоритму:\n",
    "1. Вы выбираете 3 стопки монет из оставшихся на столе.\n",
    "2. Алиса забирает себе стопку с максимальным количеством монет.\n",
    "3. Вы забираете одну из двух оставшихся стопок.\n",
    "4. Боб забирает последнюю стопку.\n",
    "5. Если еще остались стопки, то действия повторяются с первого шага\n",
    "\n",
    "Дан массив целых положительных чисел piles. Напишите функцию, возвращающую максимальное число монет, которое вы можете получить."
   ]
  },
  {
   "cell_type": "code",
   "execution_count": 129,
   "id": "electoral-checkout",
   "metadata": {},
   "outputs": [
    {
     "data": {
      "text/plain": [
       "18"
      ]
     },
     "execution_count": 129,
     "metadata": {},
     "output_type": "execute_result"
    }
   ],
   "source": [
    "def Coins(arr):\n",
    "    arr.sort() ## Сортируем массив\n",
    "    a = len(arr)//3 ## Целочисленное деление длины на 3\n",
    "    me = 0\n",
    "    while a < len(arr):\n",
    "        me = me + arr[a]\n",
    "        a = a + 2\n",
    "    return (me)\n",
    "Coins([9,8,7,6,5,1,2,3,4])"
   ]
  },
  {
   "cell_type": "markdown",
   "id": "elder-shareware",
   "metadata": {},
   "source": [
    "# Задача 8 «Шарики и стрелы»"
   ]
  },
  {
   "cell_type": "markdown",
   "id": "convenient-dancing",
   "metadata": {},
   "source": [
    "Некоторые сферические шарики распределены по двухмерному пространству. Для каждого\n",
    "шарика даны x-координаты начала и конца его горизонтального диаметра. Так как пространство\n",
    "двумерно, то y-координаты не имеют значения в данной задаче. Координата xstart всегда меньше\n",
    "xend.\n",
    "Стрелу можно выстрелить строго вертикально (вдоль y-оси) из разных точек x-оси. Шарик\n",
    "с координатами xstart и xend уничтожается стрелой, если она была выпущена из такой позиции\n",
    "x, что xstart ⩽ x ⩽ xend. Когда стрела выпущена, она летит в пространстве бесконечное время\n",
    "(уничтожая все шарики на пути).\n",
    "Дан массив points, где points[i] = [xstart, xend]. Напишите функцию, возвращаю\u0002щую минимальное количество стрел, которые нужно выпустить, чтобы уничтожить все шари\u0002ки."
   ]
  },
  {
   "cell_type": "code",
   "execution_count": 130,
   "id": "4a34228d",
   "metadata": {},
   "outputs": [
    {
     "name": "stdout",
     "output_type": "stream",
     "text": [
      "2\n"
     ]
    }
   ],
   "source": [
    "points = [[10, 16], [2, 8], [1, 6], [7, 12]]\n",
    "if len(points) == 0:\n",
    "    print(points)\n",
    "points.sort(key=lambda a: a[1])\n",
    "arrows = 1\n",
    "curr = points[0]\n",
    "for balloon in points:\n",
    "    if curr[1] < balloon[0]:\n",
    "        curr = balloon\n",
    "        arrows += 1\n",
    "print(arrows)"
   ]
  },
  {
   "cell_type": "markdown",
   "id": "hearing-truck",
   "metadata": {},
   "source": [
    "# Задача 9 «Объединение отрезков»"
   ]
  },
  {
   "cell_type": "markdown",
   "id": "christian-parking",
   "metadata": {},
   "source": [
    "Дан массив отрезков intervals, в котором intervals[i] = [starti, endi], некоторые\n",
    "отрезки могут пересекаться. Напишите функцию, которая объединяет все пересекающиеся отрезки в один и возвращает новый массив непересекающихся отрезков.\n"
   ]
  },
  {
   "cell_type": "code",
   "execution_count": 131,
   "id": "driving-warrant",
   "metadata": {},
   "outputs": [
    {
     "data": {
      "text/plain": [
       "[[1, 6], [8, 10], [15, 18]]"
      ]
     },
     "execution_count": 131,
     "metadata": {},
     "output_type": "execute_result"
    }
   ],
   "source": [
    "def union_of_lines(interv):\n",
    "    interv.sort()\n",
    "    i=0\n",
    "    while i <len(interv)-1:\n",
    "        if interv[i][1]>=interv[i+1][0]:\n",
    "            a=interv.pop(0)\n",
    "            b=interv.pop(0)\n",
    "            interv.insert(0, [a[0],b[1]])\n",
    "        else:\n",
    "            i+=1\n",
    "    return interv\n",
    "\n",
    "union_of_lines([[1,3],[2,6],[8,10],[15,18]])"
   ]
  },
  {
   "cell_type": "markdown",
   "id": "occasional-fitness",
   "metadata": {},
   "source": [
    "# Вывод"
   ]
  },
  {
   "cell_type": "markdown",
   "id": "surface-journal",
   "metadata": {},
   "source": [
    "В ходе курсовой работы были созданы и реализованы алгоритмы для решения задач на массивы (нахождение максимального периметра треугольника, сортировка диагоналей матрицы и тд.), строки (нахождение самой длинной палиндромной подстроки в строке, нахождение количества отдельных подстрок текста и тд.), а так же на логику и закрепление материала: \"стопка монет\", \"шарики и стрелы\" и \"объединение отрезков\""
   ]
  }
 ],
 "metadata": {
  "kernelspec": {
   "display_name": "Python 3",
   "language": "python",
   "name": "python3"
  },
  "language_info": {
   "codemirror_mode": {
    "name": "ipython",
    "version": 3
   },
   "file_extension": ".py",
   "mimetype": "text/x-python",
   "name": "python",
   "nbconvert_exporter": "python",
   "pygments_lexer": "ipython3",
   "version": "3.9.5"
  }
 },
 "nbformat": 4,
 "nbformat_minor": 5
}
