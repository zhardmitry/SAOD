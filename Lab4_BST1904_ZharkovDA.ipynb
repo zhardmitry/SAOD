{
 "cells": [
  {
   "cell_type": "markdown",
   "metadata": {},
   "source": [
    "# Лабораторная работа №4\n",
    "Выполнил студент группы БСТ1904 Жарков Дмитрий 6 Вариант"
   ]
  },
  {
   "cell_type": "markdown",
   "metadata": {},
   "source": [
    "Реализовать следующие структуры данных:\n",
    "\n",
    "Стек (stack):\n",
    "\n",
    "операции для стека: инициализация, проверка на пустоту, добавление нового элемента в начало, извлечение элемента из начала;\n",
    "\n",
    "Дек (двусторонняя очередь, deque):\n",
    "\n",
    "операции для дека: инициализация, проверка на пустоту, добавление нового элемента в начало, добавление нового элемента в конец, извлечение элемента из начала, извлечение элемента из конца.\n",
    "\n",
    "Разработать программу обработки данных, содержащихся в заранее подготовленном txt-файле, в соответствии с заданиями, применив указанную в задании структуру данных. Результат работы программы вывести на экран и сохранить в отдельном txt-файле.\n",
    "\n",
    "Оформить отчет о лабораторной работе в ipynb или pdf-файле."
   ]
  },
  {
   "cell_type": "code",
   "execution_count": 50,
   "metadata": {},
   "outputs": [],
   "source": [
    "class LinkedNode:\n",
    "    \"\"\" Связный список с ссылками на обратный и следующий элемент \"\"\"\n",
    "    def __init__(self, value=None):\n",
    "        self.value = value\n",
    "        self.right = None\n",
    "        self.left = None"
   ]
  },
  {
   "cell_type": "markdown",
   "metadata": {},
   "source": [
    "# Стек"
   ]
  },
  {
   "cell_type": "code",
   "execution_count": 51,
   "metadata": {},
   "outputs": [],
   "source": [
    "class Stack:    \n",
    "    def __init__(self):\n",
    "        self.head = LinkedNode()\n",
    "        self.size = 0\n",
    "\n",
    "    def is_empty(self): #проверка на пустоту\n",
    "        return self.size == 0\n",
    "\n",
    "    def push(self, value): #добавление нового элемента в начало\n",
    "        if self.size > 0:\n",
    "            node = LinkedNode(value)\n",
    "            node.right = self.head\n",
    "            self.head = node\n",
    "        else:\n",
    "            self.head.value = value\n",
    "        self.size += 1\n",
    "      \n",
    "    def pop(self): #удаление элемента из начала\n",
    "        if self.is_empty():\n",
    "            raise Exception(\"Стек пуст\")\n",
    "        remove = self.head\n",
    "        if self.size > 1:\n",
    "            self.head = remove.right\n",
    "        self.size -= 1\n",
    "        return remove.value\n",
    "    \n",
    "    def peek(self): #просмотр последнего элемента\n",
    "        if self.is_empty():\n",
    "            raise Exception(\"Стек пуст\")\n",
    "        return self.head.value\n",
    "    \n",
    "    def __len__(self):\n",
    "        return self.size\n",
    "\n",
    "    def reverse(self):\n",
    "        current = self.head\n",
    "        prev = None\n",
    "        next = None\n",
    " \n",
    "        while current is not None:\n",
    "            next = current.right\n",
    "            current.right = prev\n",
    "            prev = current\n",
    "            current = next\n",
    "\n",
    "        self.head = prev"
   ]
  },
  {
   "cell_type": "markdown",
   "metadata": {},
   "source": [
    "# Дек"
   ]
  },
  {
   "cell_type": "code",
   "execution_count": 52,
   "metadata": {},
   "outputs": [],
   "source": [
    "class Deque:\n",
    "    def __init__(self):\n",
    "        self.head = LinkedNode()\n",
    "        self.tail = self.head\n",
    "        self.size = 0\n",
    "    \n",
    "    def is_empty(self):\n",
    "        return self.size == 0\n",
    "\n",
    "    def push_left(self, value):\n",
    "        if self.size > 0:\n",
    "            node = LinkedNode(value)\n",
    "            node.right = self.tail\n",
    "            self.tail.left = node\n",
    "            self.tail = node\n",
    "        else:\n",
    "            self.tail.value = value\n",
    "        self.size += 1\n",
    "\n",
    "    def push(self, value):\n",
    "        if self.size > 0:\n",
    "            node = LinkedNode(value)\n",
    "            node.left = self.head\n",
    "            self.head.right = node\n",
    "            self.head = node\n",
    "        else:\n",
    "            self.head.value = value\n",
    "        self.size += 1\n",
    "    \n",
    "    def pop_left(self):\n",
    "        if self.is_empty():\n",
    "            raise Exception(\"Дек пуст\")\n",
    "        remove = self.tail\n",
    "        if self.size > 1:\n",
    "            self.tail = remove.right\n",
    "        self.size -= 1\n",
    "        return remove.value\n",
    "    \n",
    "    def pop(self):\n",
    "        if self.is_empty():\n",
    "            raise Exception(\"Дек пуст\")\n",
    "        remove = self.head\n",
    "        if self.size > 1:\n",
    "            self.head = remove.left\n",
    "        self.size -= 1\n",
    "        return remove.value\n",
    "    \n",
    "    def peek(self):\n",
    "        if self.is_empty():\n",
    "            raise Exception(\"Дек пуст\")\n",
    "        return self.head.value\n",
    "    \n",
    "    def peek_left(self):\n",
    "        if self.is_empty():\n",
    "            raise Exception(\"Дек пуст\")\n",
    "        return self.tail.value\n",
    "\n",
    "    def __len__(self):\n",
    "        return self.size"
   ]
  },
  {
   "cell_type": "markdown",
   "metadata": {},
   "source": [
    "# Задание 1\n",
    "Отсортировать строки файла, содержащие названия книг, в алфавитном порядке с использованием двух деков."
   ]
  },
  {
   "cell_type": "code",
   "execution_count": 53,
   "metadata": {},
   "outputs": [
    {
     "name": "stdout",
     "output_type": "stream",
     "text": [
      "worthy \n",
      "\n",
      "worth \n",
      "\n",
      "urbanization \n",
      "\n",
      "urban \n",
      "\n",
      "unfamiliar \n",
      "\n",
      "scope \n",
      "\n",
      "pond \n",
      "\n",
      "package \n",
      "\n",
      "pack \n",
      "\n",
      "land \n",
      "\n",
      "familiarize \n",
      "familiarity \n",
      "\n",
      "familiar \n",
      "\n",
      "crafty \n",
      "\n",
      "craftsman \n",
      "\n",
      "craft \n",
      "\n",
      "condition\n",
      "\n"
     ]
    }
   ],
   "source": [
    "with open('books', 'r') as books:\n",
    "    q1 = Deque()\n",
    "    q2 = Deque()\n",
    "    for book in books:\n",
    "        q1.push(book)\n",
    "    while not q1.is_empty():\n",
    "        x = q1.pop()\n",
    "        while not q2.is_empty() and q2.peek() > x:\n",
    "            q1.push_left(q2.pop())\n",
    "        q2.push(x)\n",
    "    while not q2.is_empty():\n",
    "        print(q2.pop())"
   ]
  },
  {
   "cell_type": "markdown",
   "metadata": {},
   "source": [
    "# Задание 2.\n",
    "Дек содержит последовательность символов для шифровки сообщений. Дан текстовый файл, содержащий зашифрованное сообщение. Пользуясь деком, расшифровать текст. Известно, что при шифровке каждый символ сообщения заменялся следующим за ним в деке по часовой стрелке через один."
   ]
  },
  {
   "cell_type": "code",
   "execution_count": 54,
   "metadata": {},
   "outputs": [],
   "source": [
    "import random"
   ]
  },
  {
   "cell_type": "code",
   "execution_count": 55,
   "metadata": {},
   "outputs": [
    {
     "name": "stdout",
     "output_type": "stream",
     "text": [
      "щвэдхжрьыёгаоъчюулцнзебскмштяпфий\n"
     ]
    }
   ],
   "source": [
    "alphabet = list('абвгдеёжзийклмнопрстуфхцчшщъыьэюя')\n",
    "random.shuffle(alphabet)\n",
    "alphabet = ''.join(alphabet)\n",
    "print(alphabet)\n",
    "keyRing = Deque()\n",
    "for letter in alphabet:\n",
    "    keyRing.push(letter)"
   ]
  },
  {
   "cell_type": "code",
   "execution_count": 56,
   "metadata": {},
   "outputs": [],
   "source": [
    "def encode_char(c):\n",
    "    for i in range(len(keyRing)):\n",
    "        x = keyRing.pop_left()\n",
    "        if x == c:\n",
    "            keyRing.push(x)\n",
    "            val = keyRing.pop_left()\n",
    "            keyRing.push(val)\n",
    "            return val\n",
    "        keyRing.push(x)\n",
    "\n",
    "def decode_char(c):\n",
    "    for i in range(len(keyRing)):\n",
    "        x = keyRing.pop()\n",
    "        if x == c:\n",
    "            keyRing.push_left(x)\n",
    "            val = keyRing.pop()\n",
    "            keyRing.push_left(val)\n",
    "            return val\n",
    "        keyRing.push_left(x)"
   ]
  },
  {
   "cell_type": "code",
   "execution_count": 57,
   "metadata": {},
   "outputs": [
    {
     "name": "stdout",
     "output_type": "stream",
     "text": [
      "хбм къхбьрйя фъкцбхъэоябцызъкяы кйшэъцъэ хцп тйиьъэмй къъсвбзйщ. хоз ябмкяъэёщ иощц, къхбьровйщ еотйиьъэоззъб къъсвбзйб. фъцыелпкы хбмъш, ьоктйиьъэояы ябмкя. йеэбкязъ, юяъ фьй тйиьъэмб морхёщ кйшэъц къъсвбзйп еошбзпцкп кцбхлувйш ео зйш э хбмб фъ юокъэъщ кяьбцмб юбьбе ъхйз.\n",
      "дек содержит последовательность символов для шифровки сообщений. дан текстовый файл, содержащий зашифрованное сообщение. пользуясь деком, расшифровать текст. известно, что при шифровке каждый символ сообщения заменялся следующим за ним в деке по часовой стрелке через один.\n"
     ]
    }
   ],
   "source": [
    "text = 'Дек содержит последовательность символов для шифровки сообщений. Дан текстовый файл, содержащий зашифрованное сообщение. Пользуясь деком, расшифровать текст. Известно, что при шифровке каждый символ сообщения заменялся следующим за ним в деке по часовой стрелке через один.'.lower()\n",
    "\n",
    "encoded = ''\n",
    "for letter in text:\n",
    "    if encoded_letter := encode_char(letter):\n",
    "        encoded += encoded_letter\n",
    "    else:\n",
    "        encoded += letter\n",
    "\n",
    "print(encoded)\n",
    "\n",
    "decoded = ''\n",
    "for letter in encoded:\n",
    "    if decoded_letter := decode_char(letter):\n",
    "        decoded += decoded_letter\n",
    "    else:\n",
    "        decoded += letter\n",
    "print(decoded)"
   ]
  },
  {
   "cell_type": "markdown",
   "metadata": {},
   "source": [
    "# Задание 3\n",
    "Даны три стержня и n дисков различного размера. Диски можно надевать на стержни, образуя из них башни. Перенести n дисков со стержня А на стержень С, сохранив их первоначальный порядок. При переносе дисков необходимо соблюдать следующие правила:\n",
    "\n",
    "на каждом шаге со стержня на стержень переносить только один диск;\n",
    "диск нельзя помещать на диск меньшего размера;\n",
    "для промежуточного хранения можно использовать стержень В. Реализовать алгоритм, используя три стека вместо стержней А, В, С. Информация о дисках хранится в исходном файле."
   ]
  },
  {
   "cell_type": "code",
   "execution_count": 58,
   "metadata": {},
   "outputs": [
    {
     "name": "stdout",
     "output_type": "stream",
     "text": [
      "1\n",
      "2\n",
      "3\n",
      "4\n",
      "5\n",
      "6\n",
      "7\n",
      "8\n",
      "9\n",
      "10\n"
     ]
    }
   ],
   "source": [
    "A = Stack()\n",
    "B = Stack()\n",
    "C = Stack()\n",
    "\n",
    "disks = 10\n",
    "\n",
    "for i in range(disks, 0, -1):\n",
    "    A.push(i)\n",
    "\n",
    "def move(a, b):\n",
    "    if len(a) == 0 and len(b) > 0:\n",
    "        a.push(b.pop())\n",
    "    elif len(a) > 0 and len(b) == 0:\n",
    "        b.push(a.pop())\n",
    "    elif a.peek() > b.peek():\n",
    "        a.push(b.pop())\n",
    "    else:\n",
    "        b.push(a.pop())\n",
    "\n",
    "if disks % 2 == 0:\n",
    "    while len(C) != disks:\n",
    "        move(A, B)\n",
    "        move(A, C)\n",
    "        move(B, C)\n",
    "else:\n",
    "    while len(C) != disks:\n",
    "        move(A, C)\n",
    "        move(A, B)\n",
    "        move(B, C)\n",
    "\n",
    "while not C.is_empty():\n",
    "    print(C.pop())"
   ]
  },
  {
   "cell_type": "markdown",
   "metadata": {},
   "source": [
    "# Задание 4\n",
    "Дан текстовый файл с программой на алгоритмическом языке. За один просмотр файла проверить баланс круглых скобок в тексте, используя стек."
   ]
  },
  {
   "cell_type": "code",
   "execution_count": 59,
   "metadata": {},
   "outputs": [
    {
     "name": "stdout",
     "output_type": "stream",
     "text": [
      "False\n",
      "True\n"
     ]
    }
   ],
   "source": [
    "def check_brackets(string):\n",
    "    bracket_stack = Stack()\n",
    "    for i in string:\n",
    "        if i == '(':\n",
    "            bracket_stack.push(i)\n",
    "        elif i == ')':\n",
    "            if bracket_stack.is_empty():\n",
    "                return False\n",
    "            bracket_stack.pop()\n",
    "    return bracket_stack.is_empty()\n",
    "\n",
    "print(check_brackets('()())((())(()(())()'))\n",
    "print(check_brackets('(()())()()()()(()(()(())()))'))"
   ]
  },
  {
   "cell_type": "markdown",
   "metadata": {},
   "source": [
    "# Задание 5\n",
    "Дан текстовый файл с программой на алгоритмическом языке. За один просмотр файла проверить баланс квадратных скобок в тексте, используя дек."
   ]
  },
  {
   "cell_type": "code",
   "execution_count": 60,
   "metadata": {},
   "outputs": [
    {
     "name": "stdout",
     "output_type": "stream",
     "text": [
      "False\n",
      "True\n"
     ]
    }
   ],
   "source": [
    "def check_square_brackets(string):\n",
    "    bracket_stack = Deque()\n",
    "    for i in string:\n",
    "        if i == '[':\n",
    "            bracket_stack.push(i)\n",
    "        elif i == ']':\n",
    "            if bracket_stack.is_empty():\n",
    "                return False\n",
    "            bracket_stack.pop()\n",
    "    return bracket_stack.is_empty()\n",
    "\n",
    "print(check_square_brackets('[][[][[[[]][[]]]]]]'))\n",
    "print(check_square_brackets('[[][][][[][]][][[][][][][]]][]'))"
   ]
  },
  {
   "cell_type": "markdown",
   "metadata": {},
   "source": [
    "# Задание 6\n",
    "Дан файл из символов. Используя стек, за один просмотр файла напечатать сначала все цифры, затем все буквы, и, наконец, все остальные символы, сохраняя исходный порядок в каждой группе символов."
   ]
  },
  {
   "cell_type": "code",
   "execution_count": 61,
   "metadata": {},
   "outputs": [
    {
     "name": "stdout",
     "output_type": "stream",
     "text": [
      "12412412412412412412412214ДанфайлизсимволовИспользуястекзаодинпросмотрфайланапечататьсначалавсецифрызатемвсебуквыинаконецвсеостальныесимволысохраняяисходныйпорядоквкаждойгруппесимволов   .   ,            ,   , , ,   ,       .\n"
     ]
    }
   ],
   "source": [
    "text = 'Дан файл из символов. Используя стек 124, за один 124 просмотр файл 124а напечатать снач 124124ала все цифры 124124, затем 12214все буквы, и, наконец, все остальные символы, сохраняя исходный порядок в каждой группе символов.'\n",
    "\n",
    "letters = Stack()\n",
    "digits = Stack()\n",
    "others = Stack()\n",
    "\n",
    "for c in text:\n",
    "    if c.isalpha():\n",
    "        letters.push(c)\n",
    "    elif c.isdigit():\n",
    "        digits.push(c)\n",
    "    else:\n",
    "        others.push(c)\n",
    "\n",
    "new_text = ''\n",
    "\n",
    "letters.reverse()\n",
    "digits.reverse()\n",
    "others.reverse()\n",
    "\n",
    "while not digits.is_empty():\n",
    "    new_text += digits.pop()\n",
    "\n",
    "while not letters.is_empty():\n",
    "    new_text += letters.pop()\n",
    "\n",
    "while not others.is_empty():\n",
    "    new_text += others.pop()\n",
    "\n",
    "print(new_text)"
   ]
  },
  {
   "cell_type": "markdown",
   "metadata": {},
   "source": [
    "# Задание 7\n",
    "Дан файл из целых чисел. Используя дек, за один просмотр файла напечатать сначала все отрицательные числа, затем все положительные числа, сохраняя исходный порядок в каждой группе."
   ]
  },
  {
   "cell_type": "code",
   "execution_count": 62,
   "metadata": {},
   "outputs": [
    {
     "name": "stdout",
     "output_type": "stream",
     "text": [
      "[5, -10, -7, -1, 10, 10, -1, 8, 0, 9]\n",
      "-10\n",
      "-7\n",
      "-1\n",
      "-1\n",
      "5\n",
      "10\n",
      "10\n",
      "8\n",
      "0\n",
      "9\n"
     ]
    }
   ],
   "source": [
    "numbers = [random.randint(-10, 10) for i in range(10)]\n",
    "print(numbers)\n",
    "\n",
    "deque = Deque()\n",
    "for n in numbers:\n",
    "    if n < 0:\n",
    "        deque.push_left(n)\n",
    "    else:\n",
    "        deque.push(n)\n",
    "\n",
    "while not deque.is_empty():\n",
    "    x = deque.pop_left()\n",
    "    if x < 0:\n",
    "        deque.push(x)\n",
    "    else:\n",
    "        deque.push_left(x)\n",
    "        break\n",
    "\n",
    "while not deque.is_empty():\n",
    "    x = deque.pop()\n",
    "    if x < 0:\n",
    "        print(x)\n",
    "    else:\n",
    "        deque.push(x)\n",
    "        break\n",
    "\n",
    "while not deque.is_empty():\n",
    "    print(deque.pop_left())"
   ]
  },
  {
   "cell_type": "markdown",
   "metadata": {},
   "source": [
    "# Задание 8\n",
    "Дан текстовый файл. Используя стек, сформировать новый текстовый файл, содержащий строки исходного файла, записанные в обратном порядке: первая строка становится последней, вторая – предпоследней и т.д."
   ]
  },
  {
   "cell_type": "code",
   "execution_count": 63,
   "metadata": {},
   "outputs": [
    {
     "name": "stdout",
     "output_type": "stream",
     "text": [
      "condition\n",
      "land\n",
      "scope\n",
      "pack\n",
      "package\n",
      "craft\n",
      "craftsman\n",
      "crafty\n",
      "worth\n",
      "worthy\n",
      "urban\n",
      "urbanization\n",
      "pond\n",
      "familiar\n",
      "familiarity\n",
      "unfamiliar\n",
      "familiarize\n",
      "\n",
      "familiarize\n",
      "unfamiliar\n",
      "familiarity\n",
      "familiar\n",
      "pond\n",
      "urbanization\n",
      "urban\n",
      "worthy\n",
      "worth\n",
      "crafty\n",
      "craftsman\n",
      "craft\n",
      "package\n",
      "pack\n",
      "scope\n",
      "land\n",
      "condition\n"
     ]
    }
   ],
   "source": [
    "with open('books', 'r') as books:\n",
    "    stack = Stack()\n",
    "    for book in books:\n",
    "        book = book.strip()\n",
    "        print(book)\n",
    "        stack.push(book)\n",
    "    print()\n",
    "    while not stack.is_empty():\n",
    "        print(stack.pop())"
   ]
  },
  {
   "cell_type": "markdown",
   "metadata": {},
   "source": [
    "# Задание 9\n",
    "дан текстовый файл. Используя стек, вычислить значение логического выражения, записанного в текстовом файле в следующей форме:\n",
    "\n",
    "< ЛВ > ::= T | F | (N<ЛВ>) | (<ЛВ>A<ЛВ>) | (<ЛВ>X<ЛВ>) | (<ЛВ>O<ЛВ>),\n",
    "где буквами обозначены логические константы и операции:\n",
    "\n",
    "T – True, F – False, N – Not, A – And, X – Xor, O – Or."
   ]
  },
  {
   "cell_type": "code",
   "execution_count": 64,
   "metadata": {},
   "outputs": [
    {
     "name": "stdout",
     "output_type": "stream",
     "text": [
      "T\n"
     ]
    }
   ],
   "source": [
    "text = '((T)XF)X(TAT)OT'\n",
    "\n",
    "opstack = Stack()\n",
    "vstack = Stack()\n",
    "\n",
    "cur = 0\n",
    "while True:\n",
    "    read = False\n",
    "    if not opstack.is_empty():\n",
    "        if opstack.peek() == 'N':\n",
    "            if vstack.is_empty():\n",
    "                read = True\n",
    "            else:\n",
    "                if vstack.pop() == 'T':\n",
    "                    vstack.push('F')\n",
    "                else:\n",
    "                    vstack.push('T')\n",
    "                opstack.pop()\n",
    "        elif opstack.peek() == 'A':\n",
    "            if len(vstack) < 2:\n",
    "                read = True\n",
    "            else:\n",
    "                a = vstack.pop()\n",
    "                b = vstack.pop()\n",
    "                if a == b and b == 'T':\n",
    "                    vstack.push('T')\n",
    "                else:\n",
    "                    vstack.push('F')\n",
    "                opstack.pop()\n",
    "        elif opstack.peek() == 'O':\n",
    "            if len(vstack) < 2:\n",
    "                read = True\n",
    "            else:\n",
    "                a = vstack.pop()\n",
    "                b = vstack.pop()\n",
    "                if a == 'T' or b == 'T':\n",
    "                    vstack.push('T')\n",
    "                else:\n",
    "                    vstack.push('F')\n",
    "                opstack.pop()\n",
    "        elif opstack.peek() == 'X':\n",
    "            if len(vstack) < 2:\n",
    "                read = True\n",
    "            else:\n",
    "                a = vstack.pop()\n",
    "                b = vstack.pop()\n",
    "                if a != b:\n",
    "                    vstack.push('T')\n",
    "                else:\n",
    "                    vstack.push('F')\n",
    "                opstack.pop()\n",
    "        elif opstack.peek() == '(':\n",
    "            read = True\n",
    "        elif opstack.peek() == ')':\n",
    "            opstack.pop()\n",
    "            opstack.pop()\n",
    "    else:\n",
    "        read = True\n",
    "    if read:\n",
    "        i = text[cur]\n",
    "        if i in 'FT':\n",
    "            vstack.push(i)\n",
    "        if i in 'AXON()':\n",
    "            opstack.push(i)\n",
    "        cur += 1\n",
    "    \n",
    "\n",
    "    if cur == len(text) and len(opstack) == 0:\n",
    "        break\n",
    "\n",
    "while not vstack.is_empty():\n",
    "    print(vstack.pop())"
   ]
  },
  {
   "cell_type": "markdown",
   "metadata": {},
   "source": [
    "# Задание 10\n",
    "Дан текстовый файл. В текстовом файле записана формула следующего вида:\n",
    "\n",
    "<Формула> ::= <Цифра> | M(<Формула>,<Формула>) | N(Формула>,<Формула>)\n",
    "< Цифра > ::= 0 | 1 | 2 | 3 | 4 | 5 | 6 | 7 | 8 | 9\n",
    "где буквами обозначены функции:\n",
    "\n",
    "M – определение максимума, N – определение минимума.\n",
    "\n",
    "Используя стек, вычислить значение заданного выражения."
   ]
  },
  {
   "cell_type": "code",
   "execution_count": 65,
   "metadata": {},
   "outputs": [
    {
     "name": "stdout",
     "output_type": "stream",
     "text": [
      "Введите имя файла: task10\n",
      "9 \t M(N(10, 9), M(4, N(8, M(7, M(6, M(5, 4))))))\n"
     ]
    }
   ],
   "source": [
    "folder = \"labs/\"\n",
    "filename = input(\"Введите имя файла: \")\n",
    "\n",
    "\n",
    "def calculate(line, stack):\n",
    "    for ch in line[::-1]:\n",
    "        if ch == 'M':\n",
    "            stack.push(max(stack.pop(), stack.pop()))\n",
    "        elif ch == 'N':\n",
    "            stack.push(min(stack.pop(), stack.pop()))\n",
    "        elif ch.isdigit():\n",
    "            stack.push(ch)\n",
    "        else:\n",
    "            continue\n",
    "    return stack.peek()\n",
    "        \n",
    "try:\n",
    "    # task10.txt\n",
    "    new_f = open(folder + filename + \"_output10.txt\", 'w')\n",
    "    with open(folder + filename + \".txt\", 'r') as f:\n",
    "        for line in f:\n",
    "            stack = Stack()\n",
    "            print(calculate(line, stack), '\\t', line.rstrip())\n",
    "            new_f.write(stack.pop() + '\\t' + line)\n",
    "    new_f.close()\n",
    "except IOError:\n",
    "    print(\"IOError: Не найден файл, либо неверно указан путь\")\n",
    "    "
   ]
  },
  {
   "cell_type": "markdown",
   "metadata": {},
   "source": [
    "# Задание 11\n",
    "Дан текстовый файл. Используя стек, проверить, является ли содержимое текстового файла правильной записью формулы вида:\n",
    "\n",
    "< Формула > ::= < Терм > | < Терм > + < Формула > | < Терм > - < Формула >\n",
    "< Терм > ::= < Имя > | (< Формула >)\n",
    "< Имя > ::= x | y | z"
   ]
  },
  {
   "cell_type": "code",
   "execution_count": 18,
   "metadata": {},
   "outputs": [
    {
     "data": {
      "text/plain": [
       "True"
      ]
     },
     "execution_count": 18,
     "metadata": {},
     "output_type": "execute_result"
    }
   ],
   "source": [
    "def check(text):\n",
    "    stack = Stack()\n",
    "\n",
    "    cur = 0\n",
    "    while True:\n",
    "        read = False\n",
    "        if not stack.is_empty():\n",
    "            if stack.peek() == '(':\n",
    "                read = True\n",
    "            elif stack.peek() == ')':\n",
    "                stack.pop()\n",
    "                if len(stack) < 2 or stack.pop() != 'formula' or stack.pop() != '(':\n",
    "                    return False\n",
    "                stack.push('formula')\n",
    "            elif stack.peek() == 'formula':\n",
    "                stack.pop()\n",
    "                if len(stack) > 1 and stack.peek() in '+-':\n",
    "                    if stack.pop() in '+-' and stack.pop() == 'formula':\n",
    "                        stack.push('formula')\n",
    "                    else:\n",
    "                        return False\n",
    "                else:\n",
    "                    stack.push('formula')\n",
    "                    read = True\n",
    "            else:\n",
    "                read = True\n",
    "        else:\n",
    "            read = True\n",
    "        if read:\n",
    "            i = text[cur]\n",
    "            if i in 'xyz':\n",
    "                stack.push('formula')\n",
    "            elif i in '()+-':\n",
    "                stack.push(i)\n",
    "            cur += 1\n",
    "        if cur == len(text) and len(stack) == 1:\n",
    "            break\n",
    "    return True\n",
    "\n",
    "check('((x + y) + (x - y) + z)')"
   ]
  },
  {
   "cell_type": "markdown",
   "metadata": {},
   "source": [
    "# Вывод:\n",
    "    По ходу лабораторной работы я изучил технологии Stack и Deque и научился применять их для решения задач."
   ]
  }
 ],
 "metadata": {
  "kernelspec": {
   "display_name": "Python 3",
   "language": "python",
   "name": "python3"
  },
  "language_info": {
   "codemirror_mode": {
    "name": "ipython",
    "version": 3
   },
   "file_extension": ".py",
   "mimetype": "text/x-python",
   "name": "python",
   "nbconvert_exporter": "python",
   "pygments_lexer": "ipython3",
   "version": "3.9.5"
  }
 },
 "nbformat": 4,
 "nbformat_minor": 4
}
